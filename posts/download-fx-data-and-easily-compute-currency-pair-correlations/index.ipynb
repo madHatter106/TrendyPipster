{
 "cells": [
  {
   "cell_type": "markdown",
   "metadata": {},
   "source": [
    "Write your post here."
   ]
  }
 ],
 "metadata": {
  "kernelspec": {
   "display_name": "Python 3",
   "env": {},
   "language": "python",
   "name": "python3"
  },
  "nikola": {
   "category": "",
   "date": "2017-07-19 13:13:15 UTC-04:00",
   "description": "",
   "link": "",
   "slug": "download-fx-data-and-easily-compute-currency-pair-correlations",
   "tags": "",
   "title": "Download FX Data and easily Compute Currency Pair Correlations",
   "type": "text"
  }
 },
 "nbformat": 4,
 "nbformat_minor": 2
}
